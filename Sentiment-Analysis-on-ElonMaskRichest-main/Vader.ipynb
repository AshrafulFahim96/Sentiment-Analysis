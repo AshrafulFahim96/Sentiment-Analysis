{
 "cells": [
  {
   "cell_type": "code",
   "execution_count": 4,
   "metadata": {},
   "outputs": [
    {
     "name": "stdout",
     "output_type": "stream",
     "text": [
      "Collecting vaderSentiment\n",
      "  Downloading vaderSentiment-3.3.2-py2.py3-none-any.whl (125 kB)\n",
      "Requirement already satisfied: requests in c:\\users\\user\\anaconda3\\lib\\site-packages (from vaderSentiment) (2.27.1)\n",
      "Requirement already satisfied: charset-normalizer~=2.0.0 in c:\\users\\user\\anaconda3\\lib\\site-packages (from requests->vaderSentiment) (2.0.4)\n",
      "Requirement already satisfied: certifi>=2017.4.17 in c:\\users\\user\\anaconda3\\lib\\site-packages (from requests->vaderSentiment) (2021.10.8)\n",
      "Requirement already satisfied: urllib3<1.27,>=1.21.1 in c:\\users\\user\\anaconda3\\lib\\site-packages (from requests->vaderSentiment) (1.26.9)\n",
      "Requirement already satisfied: idna<4,>=2.5 in c:\\users\\user\\anaconda3\\lib\\site-packages (from requests->vaderSentiment) (3.3)\n",
      "Installing collected packages: vaderSentiment\n",
      "Successfully installed vaderSentiment-3.3.2\n"
     ]
    }
   ],
   "source": [
    "!pip install vaderSentiment"
   ]
  },
  {
   "cell_type": "code",
   "execution_count": 5,
   "metadata": {},
   "outputs": [],
   "source": [
    "import pandas as pd\n",
    "import matplotlib.pyplot as plt\n",
    "from vaderSentiment.vaderSentiment import SentimentIntensityAnalyzer\n",
    "analyser = SentimentIntensityAnalyzer()"
   ]
  },
  {
   "cell_type": "code",
   "execution_count": 7,
   "metadata": {},
   "outputs": [],
   "source": [
    "df = pd.read_csv(\"updated_data.csv\")"
   ]
  },
  {
   "cell_type": "code",
   "execution_count": 11,
   "metadata": {},
   "outputs": [
    {
     "data": {
      "text/plain": [
       "0       Elon Musk is now he riches person in he world ...\n",
       "1         Elon Musk  he ouspoken enrepreneur behind Te...\n",
       "2       Elon Musk beming he riches person on he plane ...\n",
       "3         No  Elon Musk is no he riches person in he w...\n",
       "4         Elon Musk is now he riches person in he worl...\n",
       "                              ...                        \n",
       "2075      JUST IN   Elon Musk jus passed Jeff Bezos as...\n",
       "2076    Elon Musk Reacs o News ha He s he Riches Perso...\n",
       "2077      Elon Musk is now he riches person in he worl...\n",
       "2078      700 years afer Mansa Musa of Mali  reigned f...\n",
       "2079      Elon Musk is now he riches person in he worl...\n",
       "Name: Text, Length: 2080, dtype: object"
      ]
     },
     "execution_count": 11,
     "metadata": {},
     "output_type": "execute_result"
    }
   ],
   "source": [
    "df['Text']"
   ]
  },
  {
   "cell_type": "code",
   "execution_count": 13,
   "metadata": {},
   "outputs": [],
   "source": [
    "def sentiment_analyzer_scores(sentence):\n",
    "    score = analyser.polarity_scores(sentence)\n",
    "    print(score)\n",
    "    #####  print(\"{:-<40} {}\".format(sentence, str(score)))   ## if you want to see the sentences\n",
    "    "
   ]
  },
  {
   "cell_type": "code",
   "execution_count": 14,
   "metadata": {},
   "outputs": [],
   "source": [
    "a= df[\"Text\"]\n",
    "\n",
    "a = str(a)"
   ]
  },
  {
   "cell_type": "code",
   "execution_count": 15,
   "metadata": {},
   "outputs": [
    {
     "data": {
      "text/plain": [
       "'0       Elon Musk is now he riches person in he world ...\\n1         Elon Musk  he ouspoken enrepreneur behind Te...\\n2       Elon Musk beming he riches person on he plane ...\\n3         No  Elon Musk is no he riches person in he w...\\n4         Elon Musk is now he riches person in he worl...\\n                              ...                        \\n2075      JUST IN   Elon Musk jus passed Jeff Bezos as...\\n2076    Elon Musk Reacs o News ha He s he Riches Perso...\\n2077      Elon Musk is now he riches person in he worl...\\n2078      700 years afer Mansa Musa of Mali  reigned f...\\n2079      Elon Musk is now he riches person in he worl...\\nName: Text, Length: 2080, dtype: object'"
      ]
     },
     "execution_count": 15,
     "metadata": {},
     "output_type": "execute_result"
    }
   ],
   "source": [
    "a "
   ]
  },
  {
   "cell_type": "code",
   "execution_count": 19,
   "metadata": {},
   "outputs": [
    {
     "name": "stdout",
     "output_type": "stream",
     "text": [
      "{'neg': 0.053, 'neu': 0.778, 'pos': 0.169, 'compound': 0.9487}\n"
     ]
    }
   ],
   "source": [
    "score = sentiment_analyzer_scores(a)\n",
    "score\n",
    "\n"
   ]
  },
  {
   "cell_type": "code",
   "execution_count": 21,
   "metadata": {},
   "outputs": [],
   "source": [
    "dic = {'neg': 0.053, 'neu': 0.778, 'pos': 0.169, 'compound': 0.9487}"
   ]
  },
  {
   "cell_type": "code",
   "execution_count": 22,
   "metadata": {},
   "outputs": [
    {
     "data": {
      "image/png": "[encoded data removed]",
      "text/plain": [
       "<Figure size 432x288 with 1 Axes>"
      ]
     },
     "metadata": {
      "needs_background": "light"
     },
     "output_type": "display_data"
    }
   ],
   "source": [
    "plt.bar(*zip(*dic.items()), color=\"green\")\n",
    "plt.show()"
   ]
  },
  {
   "cell_type": "code",
   "execution_count": 23,
   "metadata": {},
   "outputs": [
    {
     "data": {
      "image/png": "[encoded data removed]",
      "text/plain": [
       "<Figure size 432x288 with 1 Axes>"
      ]
     },
     "metadata": {
      "needs_background": "light"
     },
     "output_type": "display_data"
    }
   ],
   "source": [
    "names = list(dic.keys())\n",
    "values = list(dic.values())\n",
    "plt.bar(0,values[0],tick_label=names[0])\n",
    "plt.bar(1,values[1],tick_label=names[1])\n",
    "plt.bar(2,values[2],tick_label=names[2])\n",
    "plt.bar(3,values[3],tick_label=names[3])\n",
    "plt.xticks(range(0,4),names)\n",
    "plt.show()"
   ]
  },
  {
   "cell_type": "code",
   "execution_count": null,
   "metadata": {},
   "outputs": [],
   "source": []
  }
 ],
 "metadata": {
  "kernelspec": {
   "display_name": "Python 3 (ipykernel)",
   "language": "python",
   "name": "python3"
  },
  "language_info": {
   "codemirror_mode": {
    "name": "ipython",
    "version": 3
   },
   "file_extension": ".py",
   "mimetype": "text/x-python",
   "name": "python",
   "nbconvert_exporter": "python",
   "pygments_lexer": "ipython3",
   "version": "3.9.12"
  }
 },
 "nbformat": 4,
 "nbformat_minor": 4
}
